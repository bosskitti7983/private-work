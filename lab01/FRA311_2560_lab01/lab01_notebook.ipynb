{
 "cells": [
  {
   "cell_type": "markdown",
   "metadata": {},
   "source": [
    "## 3. Exploring data tables with Pandas\n",
    "\n",
    "1. Use Pandas to read the house prices data. How many columns and rows are there in this dataset?\n",
    "2. The first step I usually do is to use commands like pandas.head() to print a few rows of data. Look around what kind of features are available and read data description.txt for more info. Try to understand as much as you can. Pick three features you think will be good predictors of house prices and explain what they are.\n",
    "3. How many unique conditions are there in SaleCondition? Use Pandas to find out how many samples are labeled with each condition. What do you learn from doing this?\n",
    "4. Select one variable you picked in b., do you want to know something more about that variable? Use Pandas to answer your own question and de- scribe what you did shortly here."
   ]
  },
  {
   "cell_type": "code",
   "execution_count": 1,
   "metadata": {},
   "outputs": [
    {
     "name": "stdout",
     "output_type": "stream",
     "text": [
      "1)\n",
      "Ans :\trows:1459\n",
      "\tcolumns:2\n",
      "\n",
      "########################################\n",
      "\n",
      "2)\n",
      "     Id  MSSubClass MSZoning  LotFrontage  LotArea Street Alley LotShape  \\\n",
      "0  1461          20       RH         80.0    11622   Pave   NaN      Reg   \n",
      "1  1462          20       RL         81.0    14267   Pave   NaN      IR1   \n",
      "2  1463          60       RL         74.0    13830   Pave   NaN      IR1   \n",
      "3  1464          60       RL         78.0     9978   Pave   NaN      IR1   \n",
      "4  1465         120       RL         43.0     5005   Pave   NaN      IR1   \n",
      "5  1466          60       RL         75.0    10000   Pave   NaN      IR1   \n",
      "\n",
      "  LandContour Utilities      ...       ScreenPorch PoolArea PoolQC  Fence  \\\n",
      "0         Lvl    AllPub      ...               120        0    NaN  MnPrv   \n",
      "1         Lvl    AllPub      ...                 0        0    NaN    NaN   \n",
      "2         Lvl    AllPub      ...                 0        0    NaN  MnPrv   \n",
      "3         Lvl    AllPub      ...                 0        0    NaN    NaN   \n",
      "4         HLS    AllPub      ...               144        0    NaN    NaN   \n",
      "5         Lvl    AllPub      ...                 0        0    NaN    NaN   \n",
      "\n",
      "  MiscFeature MiscVal MoSold  YrSold  SaleType  SaleCondition  \n",
      "0         NaN       0      6    2010        WD         Normal  \n",
      "1        Gar2   12500      6    2010        WD         Normal  \n",
      "2         NaN       0      3    2010        WD         Normal  \n",
      "3         NaN       0      6    2010        WD         Normal  \n",
      "4         NaN       0      1    2010        WD         Normal  \n",
      "5         NaN       0      4    2010        WD         Normal  \n",
      "\n",
      "[6 rows x 80 columns]\n",
      "\n",
      "Ans : pd.DataFrame.head(file,n) show first n lines with header\n",
      "\n",
      "########################################\n",
      "\n",
      "3)\n",
      "Ans:5 uniques ->{'AdjLand': 7, 'Family': 25, 'Abnorml': 88, 'Partial': 119, 'Alloca': 11} from:250\n",
      "I'm not sure what I learn from this code?\n",
      "\n",
      "########################################\n",
      "\n",
      "4)\n"
     ]
    }
   ],
   "source": [
    "import pandas as pd\n",
    "import numpy\n",
    "\n",
    "priceCsv = 'extract_Kaggle/sample_submission.csv'\n",
    "testCsv = 'extract_Kaggle/test.csv'\n",
    "trainCsv = 'extract_Kaggle/train.csv'\n",
    "\n",
    "priceFile = pd.read_csv(priceCsv)\n",
    "rows, cols = priceFile.shape\n",
    "\n",
    "print('1)\\nAns :\\trows:'+str(rows)+'\\n\\tcolumns:'+str(cols))\n",
    "\n",
    "print('\\n########################################\\n\\n2)')\n",
    "\n",
    "trainFile = pd.read_csv(testCsv)\n",
    "\n",
    "print(pd.DataFrame.head(trainFile,  n=6))\n",
    "print('\\nAns : pd.DataFrame.head(file,n) show first n lines with header')\n",
    "\n",
    "print('\\n########################################\\n\\n3)')\n",
    "\n",
    "\n",
    "# trainFileKey = trainFile.keys()\n",
    "# print(trainFileKey)\n",
    "trainFileSpecificCol = trainFile['SaleCondition']\n",
    "# print(trainFileSpecificCol)\n",
    "# print(dir(trainFileSpecificCol))\n",
    "dictUniqueCondition = {}\n",
    "for key in trainFileSpecificCol.values:\n",
    "    if key != 'Normal':\n",
    "        if key not in dictUniqueCondition :\n",
    "            dictUniqueCondition[key] = 0\n",
    "        else :\n",
    "            dictUniqueCondition[key] += 1\n",
    "print('Ans:'+str(len(dictUniqueCondition))+' uniques ->'+str(dictUniqueCondition)+' from:'+str(sum(dictUniqueCondition.values())))\n",
    "print(\"I'm not sure what I learn from this code?\")\n",
    "\n",
    "print('\\n########################################\\n\\n4)')\n"
   ]
  },
  {
   "cell_type": "markdown",
   "metadata": {},
   "source": [
    "## 4. Learning to explore data with Seaborn\n",
    "\n",
    "1. Let us first look at the variable we want to predict SalePrice. Use Seaborn to plot histogram of sale prices. What do you notice in the histogram?\n",
    "2. Plot the histogram of the LotArea variable. What do you notice in the histogram?\n",
    "3. Use Seaborn to plot LotArea in the x-axis and SalePrice on the y-axis. Try plotting log(LotArea) versus log(SalePrice) and see if the plot looks better."
   ]
  },
  {
   "cell_type": "code",
   "execution_count": null,
   "metadata": {},
   "outputs": [],
   "source": []
  },
  {
   "cell_type": "markdown",
   "metadata": {},
   "source": [
    "## 5. Dealing with missing values\n",
    "\n",
    "1. Suppose we want to start the first step of house price modeling by exploring the relationship between four variables: MSSubClass, LotArea, LotFrontage and SalePrice. I have done some exploring and found out that LotFrontage has a lot of missing values, so you need to fix it.\n",
    "2. LotFrontage is the width of the front side of the property. Use Pandas to find out how many of the houses in our database is missing LotFrontage value.\n",
    "3. Use Pandas to replace NaN values with another number. Since we are just exploring and not modeling yet, you can simply replace NaN with zeros for now."
   ]
  },
  {
   "cell_type": "code",
   "execution_count": null,
   "metadata": {},
   "outputs": [],
   "source": []
  },
  {
   "cell_type": "markdown",
   "metadata": {},
   "source": [
    "## 6. Correlations between multiple variables\n",
    "\n",
    "One incredible feature of Seaborn is the ability to create correlation grid with pairplot function. We want to create one single plot that show us how all variables are correlated.\n",
    "1. First, you need to create a data table with four columns: MSSubClass, LotArea (with log function applied), LotFrontage (missing values replaced) and SalePrice (with log function applied).\n",
    "2. Then, use pairplot to create a grid of correlation plots. What do you observe from this plot?"
   ]
  },
  {
   "cell_type": "code",
   "execution_count": null,
   "metadata": {},
   "outputs": [],
   "source": []
  },
  {
   "cell_type": "markdown",
   "metadata": {},
   "source": [
    "## 7. Data Preparation\n",
    "\n",
    "Let's prepare train.csv for model training\n",
    "\n",
    "1. Pick columns that are numeric data and plot distributions of those data (with Seaborn). If you find a column with skewed distribution you will write a script to transform that column with a log function. Then standardize them.\n",
    "2. For categorical variables, we will simply transform categorical data into numeric data by using function `pandas.get dummies()`.\n",
    "3. Split data into x and y. The variable x contains all the house features except the SalePrice. y contains only the SalePrice."
   ]
  },
  {
   "cell_type": "code",
   "execution_count": null,
   "metadata": {},
   "outputs": [],
   "source": []
  },
  {
   "cell_type": "markdown",
   "metadata": {},
   "source": [
    "## 8. Let us first fit a very simple linear regression model, just to see what we get.\n",
    "\n",
    "1. Use import LinearRegression from sklearn.linear model and use function `fit()` to fit the model.\n",
    "2. Use function `predict()` to get house price predictions from the model (let’s call the predicted house prices yhat).\n",
    "3. Plot `y` against `yhat` to see how good your predictions are."
   ]
  },
  {
   "cell_type": "code",
   "execution_count": null,
   "metadata": {},
   "outputs": [],
   "source": []
  },
  {
   "cell_type": "markdown",
   "metadata": {},
   "source": [
    "## 9. Assessing Your Model\n",
    "\n",
    "According to Kaggle’s official rule on this problem, they use root mean square errors (rmse) to judge the accuracy of our model. This error computes the dif- ference between the log of actual house prices and the log of predicted house price. Find the mean and squareroot them.\n",
    "\n",
    "We want to see how we compare to other machine learning contestants on Kag- gle so let us compute our rmse. Luckily, sklearn has done most of the work for you by providing mean square error function. You can use it by importing the function from sklearn.metrics. Then, you can compute mean square error and take a squareroot to get rmse.\n",
    "\n",
    "What’s the rmse of your current model? Check out Kaggle Leaderboard for this problem to see how your number measures up with the other contestants."
   ]
  },
  {
   "cell_type": "code",
   "execution_count": null,
   "metadata": {},
   "outputs": [],
   "source": []
  },
  {
   "cell_type": "markdown",
   "metadata": {},
   "source": [
    "## 10. Cross Validation\n",
    "\n",
    "As we discussed earlier, don’t brag about your model’s accuracy until you have performed cross validation. Let us check cross-validated performance to avoid embarrassment.\n",
    "\n",
    "Luckily, scikit learn has done most of the work for us once again. You can use the function `cross_val_predict()` to train the model with cross validation method and output the predictions.\n",
    "\n",
    "What’s the rmse of your cross-validated model? Discuss what you observe in your results here. You may try plotting this new yhat with y to get better insights about this question."
   ]
  },
  {
   "cell_type": "code",
   "execution_count": null,
   "metadata": {},
   "outputs": [],
   "source": []
  },
  {
   "cell_type": "markdown",
   "metadata": {},
   "source": [
    "## 11 (Optional) Fit Better Models\n",
    "There are other models you can fit that will perform better than linear regres- sion. For example, you can fit linear regression with L2 regularization. This class of models has a street name of ‘Ridge Regression’ and sklearn simply called them Ridge. As we learned last time, this model will fight overfitting problem. Furthermore, you can try linear regression with L1 regularization (street name Lasso Regression or Lasso in sklearn). Try these models and see how you com- pare with other Kagglers now. You can write about your findings below."
   ]
  },
  {
   "cell_type": "code",
   "execution_count": null,
   "metadata": {},
   "outputs": [],
   "source": []
  }
 ],
 "metadata": {
  "kernelspec": {
   "display_name": "Python 3",
   "language": "python",
   "name": "python3"
  },
  "language_info": {
   "codemirror_mode": {
    "name": "ipython",
    "version": 3
   },
   "file_extension": ".py",
   "mimetype": "text/x-python",
   "name": "python",
   "nbconvert_exporter": "python",
   "pygments_lexer": "ipython3",
   "version": "3.5.4"
  }
 },
 "nbformat": 4,
 "nbformat_minor": 2
}
